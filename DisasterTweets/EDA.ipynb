{
 "cells": [
  {
   "cell_type": "code",
   "execution_count": null,
   "id": "d3f00275-ea5c-4345-91be-c165192414fc",
   "metadata": {},
   "outputs": [],
   "source": [
    "\"\"\"\n",
    "This file is for EDA\n",
    "\"\"\""
   ]
  },
  {
   "cell_type": "code",
   "execution_count": 2,
   "id": "95d251ee-7176-4c60-8257-f97b4f22ff95",
   "metadata": {},
   "outputs": [],
   "source": [
    "## import statements\n",
    "import pandas as pd\n",
    "import traceback"
   ]
  },
  {
   "cell_type": "code",
   "execution_count": 97,
   "id": "1ab7a348-f4ab-4e48-8ba4-97f70b600bd9",
   "metadata": {},
   "outputs": [],
   "source": [
    "data_loc = \"/Users/jaydeepchakraborty/JC/git-projects/model_util/DataSets/NLPwithDisasterTweets/modf_data.csv\"\n",
    "df = pd.read_csv(data_loc)"
   ]
  },
  {
   "cell_type": "code",
   "execution_count": 98,
   "id": "00dbb41a-35dc-43b4-9963-20063979df38",
   "metadata": {},
   "outputs": [
    {
     "name": "stdout",
     "output_type": "stream",
     "text": [
      "<class 'pandas.core.frame.DataFrame'>\n",
      "RangeIndex: 7523 entries, 0 to 7522\n",
      "Data columns (total 5 columns):\n",
      " #   Column    Non-Null Count  Dtype \n",
      "---  ------    --------------  ----- \n",
      " 0   id        7523 non-null   int64 \n",
      " 1   keyword   7349 non-null   object\n",
      " 2   location  3035 non-null   object\n",
      " 3   text      7523 non-null   object\n",
      " 4   target    7523 non-null   int64 \n",
      "dtypes: int64(2), object(3)\n",
      "memory usage: 294.0+ KB\n"
     ]
    }
   ],
   "source": [
    "df.info()"
   ]
  },
  {
   "cell_type": "markdown",
   "id": "54d88e3d-b83a-4f75-a488-463e15021049",
   "metadata": {},
   "source": [
    "## pos neg ration"
   ]
  },
  {
   "cell_type": "code",
   "execution_count": 99,
   "id": "d9494d3d-b455-4927-b59f-173079dcc5f9",
   "metadata": {},
   "outputs": [
    {
     "data": {
      "text/plain": [
       "0    4275\n",
       "1    3248\n",
       "Name: target, dtype: int64"
      ]
     },
     "execution_count": 99,
     "metadata": {},
     "output_type": "execute_result"
    }
   ],
   "source": [
    "df['target'].value_counts()"
   ]
  },
  {
   "cell_type": "markdown",
   "id": "08c1549d-7601-4798-90d6-7753983da7e2",
   "metadata": {},
   "source": [
    "## null check"
   ]
  },
  {
   "cell_type": "code",
   "execution_count": 100,
   "id": "040d11f0-ecca-4690-8260-0f33eb008c92",
   "metadata": {},
   "outputs": [
    {
     "data": {
      "text/plain": [
       "id             0\n",
       "keyword      174\n",
       "location    4488\n",
       "text           0\n",
       "target         0\n",
       "dtype: int64"
      ]
     },
     "execution_count": 100,
     "metadata": {},
     "output_type": "execute_result"
    }
   ],
   "source": [
    "# total: 7613 rows\n",
    "df.isnull().sum(axis = 0)"
   ]
  },
  {
   "cell_type": "markdown",
   "id": "e471796a-f3e0-47d2-81c7-fa7c5d6f0dee",
   "metadata": {},
   "source": [
    "## word count/ frequency"
   ]
  },
  {
   "cell_type": "code",
   "execution_count": 101,
   "id": "6e8a9fbb-908e-491d-b883-5ff0b65b3224",
   "metadata": {},
   "outputs": [
    {
     "data": {
      "text/plain": [
       "738"
      ]
     },
     "execution_count": 101,
     "metadata": {},
     "output_type": "execute_result"
    }
   ],
   "source": [
    "total_cnt = df['text'].str.split().explode().nunique()\n",
    "total_cnt"
   ]
  },
  {
   "cell_type": "code",
   "execution_count": 102,
   "id": "d5d307ca-b9e6-4b0b-a314-dcf17cc549cf",
   "metadata": {},
   "outputs": [],
   "source": [
    "word_freq = df['text'].str.split().explode().value_counts()"
   ]
  },
  {
   "cell_type": "code",
   "execution_count": 103,
   "id": "cd863c29-6140-492b-b9c9-1d8dd46bf742",
   "metadata": {
    "scrolled": true,
    "tags": []
   },
   "outputs": [
    {
     "data": {
      "text/plain": [
       "htptco        690\n",
       "fire          350\n",
       "like          347\n",
       "wil           337\n",
       "amp           302\n",
       "get           255\n",
       "new           224\n",
       "via           220\n",
       "news          206\n",
       "one           205\n",
       "ben           199\n",
       "people        199\n",
       "would         190\n",
       "time          175\n",
       "video         174\n",
       "emergency     158\n",
       "disaster      156\n",
       "god           151\n",
       "body          150\n",
       "year          150\n",
       "day           143\n",
       "police        140\n",
       "building      140\n",
       "home          138\n",
       "family        132\n",
       "stil          130\n",
       "say           129\n",
       "life          127\n",
       "crash         124\n",
       "storm         124\n",
       "california    121\n",
       "back          121\n",
       "burning       120\n",
       "bomb          119\n",
       "know          119\n",
       "world         116\n",
       "train         115\n",
       "car           114\n",
       "got           113\n",
       "suicide       111\n",
       "man           110\n",
       "death         109\n",
       "first         107\n",
       "love          105\n",
       "going         103\n",
       "nuclear       101\n",
       "today         100\n",
       "make           99\n",
       "two            99\n",
       "war            99\n",
       "Name: text, dtype: int64"
      ]
     },
     "execution_count": 103,
     "metadata": {},
     "output_type": "execute_result"
    }
   ],
   "source": [
    "# top frequent words\n",
    "word_freq[0:50:1]"
   ]
  },
  {
   "cell_type": "code",
   "execution_count": 104,
   "id": "d2884689-0af4-46ba-89e3-debadbf814eb",
   "metadata": {
    "scrolled": true,
    "tags": []
   },
   "outputs": [
    {
     "data": {
      "text/plain": [
       "hailstorm    20\n",
       "militant     20\n",
       "worst        20\n",
       "view         20\n",
       "lord         20\n",
       "             ..\n",
       "fel          63\n",
       "northern     64\n",
       "water        64\n",
       "much         64\n",
       "htpstco      65\n",
       "Name: text, Length: 637, dtype: int64"
      ]
     },
     "execution_count": 104,
     "metadata": {},
     "output_type": "execute_result"
    }
   ],
   "source": [
    "# least frequent words\n",
    "word_freq[:100:-1]"
   ]
  },
  {
   "cell_type": "code",
   "execution_count": 105,
   "id": "1894388e-883b-4d43-8a12-6b6505f626b4",
   "metadata": {
    "scrolled": true,
    "tags": []
   },
   "outputs": [
    {
     "data": {
      "text/plain": [
       "htptco     690\n",
       "fire       350\n",
       "like       347\n",
       "wil        337\n",
       "amp        302\n",
       "          ... \n",
       "turn        21\n",
       "morning     21\n",
       "idea        21\n",
       "film        21\n",
       "knock       21\n",
       "Name: text, Length: 705, dtype: int64"
      ]
     },
     "execution_count": 105,
     "metadata": {},
     "output_type": "execute_result"
    }
   ],
   "source": [
    "word_freq[word_freq > 20]"
   ]
  },
  {
   "cell_type": "code",
   "execution_count": 106,
   "id": "7f4e95f9-28d3-4698-9358-c568b88b143b",
   "metadata": {},
   "outputs": [],
   "source": [
    "# custom stop words\n",
    "# any word with frequency less than 20\n",
    "stop_words = word_freq[word_freq < 20]"
   ]
  },
  {
   "cell_type": "code",
   "execution_count": 107,
   "id": "86c2978e-8f3d-4e59-ab72-2b34cb72fc3e",
   "metadata": {
    "scrolled": true,
    "tags": []
   },
   "outputs": [
    {
     "data": {
      "text/plain": [
       "[]"
      ]
     },
     "execution_count": 107,
     "metadata": {},
     "output_type": "execute_result"
    }
   ],
   "source": [
    "stop_words_lst = list(stop_words.to_dict().keys())\n",
    "stop_words_lst"
   ]
  },
  {
   "cell_type": "code",
   "execution_count": 80,
   "id": "9d1e55ca-6a1b-4af5-85cd-4eb564b21457",
   "metadata": {},
   "outputs": [],
   "source": [
    "with open('/Users/jaydeepchakraborty/JC/git-projects/model_util/DataSets/NLPwithDisasterTweets/custom_stop_word.txt', 'w') as f:\n",
    "    for stop_word in stop_words_lst:\n",
    "        f.write(f\"{stop_word}\\n\")"
   ]
  },
  {
   "cell_type": "code",
   "execution_count": null,
   "id": "85bf793a-c505-41bc-8ea4-09e1f3e156a4",
   "metadata": {},
   "outputs": [],
   "source": []
  }
 ],
 "metadata": {
  "kernelspec": {
   "display_name": "Python 3 (ipykernel)",
   "language": "python",
   "name": "python3"
  },
  "language_info": {
   "codemirror_mode": {
    "name": "ipython",
    "version": 3
   },
   "file_extension": ".py",
   "mimetype": "text/x-python",
   "name": "python",
   "nbconvert_exporter": "python",
   "pygments_lexer": "ipython3",
   "version": "3.7.4"
  }
 },
 "nbformat": 4,
 "nbformat_minor": 5
}
