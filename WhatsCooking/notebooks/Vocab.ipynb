{
 "cells": [
  {
   "cell_type": "code",
   "execution_count": 1,
   "id": "60f18608-8c5c-48c4-9bfd-c912d8e1a7a7",
   "metadata": {},
   "outputs": [],
   "source": [
    "# setting os environement\n",
    "import os\n",
    "os.environ[\"ENV_NM\"] = \"dev\"\n",
    "os.chdir('../')"
   ]
  },
  {
   "cell_type": "code",
   "execution_count": 48,
   "id": "281518ae-4d07-4e85-bf80-884af18a4742",
   "metadata": {},
   "outputs": [],
   "source": [
    "# import statements\n",
    "from util.util_lib import *\n",
    "import util.util_cnst as cnst"
   ]
  },
  {
   "cell_type": "code",
   "execution_count": 49,
   "id": "55932c18-7dfe-4c2b-9832-6717db506a15",
   "metadata": {},
   "outputs": [],
   "source": [
    "# read config file\n",
    "def get_conf(): \n",
    "    conf = EnvYAML(cnst.CONFIG_FL)  \n",
    "    conf = conf[conf['env_nm']]\n",
    "    return conf"
   ]
  },
  {
   "cell_type": "code",
   "execution_count": 50,
   "id": "d6dcce4f-7a6c-4019-881d-76a62299c9ce",
   "metadata": {},
   "outputs": [],
   "source": [
    "def read_train_data(conf):\n",
    "    data_fl_path = conf['data']['data_fl_path'] + conf['data']['train_preprocess_fl_nm']\n",
    "    print(f\"data loaded STARTED:- {data_fl_path}\")\n",
    "    data_df = pd.read_csv(data_fl_path)\n",
    "    print(f\"data loaded FINISHED:- {data_fl_path}\")\n",
    "    print(f\"data_df shape:- {data_df.shape}\")\n",
    "    return data_df"
   ]
  },
  {
   "cell_type": "code",
   "execution_count": 51,
   "id": "6f9295e4-f0b4-4b76-b11d-4ff1a7f857f0",
   "metadata": {},
   "outputs": [],
   "source": [
    "tokenizer = get_tokenizer('basic_english')\n",
    "def yield_tokens(data_iter):\n",
    "    for idx, text_row in data_iter.iterrows():\n",
    "        txt_val = text_row['ingredients_processed']\n",
    "        txt_arr = ast.literal_eval(txt_val)\n",
    "        for text in txt_arr:\n",
    "            yield tokenizer(text)"
   ]
  },
  {
   "cell_type": "code",
   "execution_count": 52,
   "id": "a1879d65-34d2-4c18-be85-fe1ad6605e9b",
   "metadata": {},
   "outputs": [],
   "source": [
    "def get_vocab(train_data): \n",
    "    train_data = train_data[['ingredients_processed']].copy()\n",
    "    vocab = build_vocab_from_iterator(\n",
    "                    yield_tokens(train_data),\n",
    "                    specials=['<UNK>', '<PAD>'], \n",
    "                    max_tokens=20000) \n",
    "    vocab.set_default_index(vocab['<UNK>'])\n",
    "    \n",
    "    print(f\"unk:- \", vocab.get_stoi()[\"<UNK>\"])\n",
    "    print(f\"pad:- \", vocab.get_stoi()[\"<PAD>\"])\n",
    "    # print(\"sos:- \", vocab.get_stoi()[\"<SOS>\"]) #not present in dictionary\n",
    "    print(f\"The first word in vocab is \", vocab.get_itos()[0])\n",
    "    print(f\"The second word in vocab is \", vocab.get_itos()[1])\n",
    "    print(f\"The third word in vocab is \", vocab.get_itos()[2])\n",
    "    print(f\"The last word in vocab is \", vocab.get_itos()[len(vocab)-1])\n",
    "    print(f\"vocab_size:- {len(vocab)}\")\n",
    "    return vocab "
   ]
  },
  {
   "cell_type": "code",
   "execution_count": 53,
   "id": "07ffde04-8fd1-42d1-88a8-fb4a632eab98",
   "metadata": {
    "tags": []
   },
   "outputs": [],
   "source": [
    "def gen_vocab_wt(vocab, conf):\n",
    "    fasttext = torch_text_vocab.Vectors(name=conf['vocab']['embed_vector_nm'], \n",
    "                             url=conf['vocab']['embed_vector_url'])\n",
    "    \n",
    "    # Map words to their FastText embeddings\n",
    "    embedding_size = conf['vocab']['embed_size']\n",
    "    weight = torch.zeros(len(vocab), embedding_size)\n",
    "    \n",
    "    # if word is not present in fastext then generate using this generator\n",
    "    generator = torch.Generator()\n",
    "    generator.manual_seed(42)  # Set a specific seed for reproducibility\n",
    "    \n",
    "    for i, word in enumerate(vocab.get_itos()):\n",
    "        if word in fasttext.stoi:\n",
    "            weight[i] = torch.Tensor(fasttext.vectors[fasttext.stoi[word]])\n",
    "        else:\n",
    "            random_tensor = torch.rand(embedding_size, generator=generator)\n",
    "            weight[i] = random_tensor\n",
    "            \n",
    "    return weight"
   ]
  },
  {
   "cell_type": "code",
   "execution_count": 54,
   "id": "4e66e76b-071f-4d51-b7d2-a5a943cbb5e3",
   "metadata": {},
   "outputs": [],
   "source": [
    "def save_vocab(vocab_obj, conf):\n",
    "    print(f\"vocab save STARTED:- {conf['vocab']['vocab_path']}\")\n",
    "    torch.save(vocab_obj, conf['vocab']['vocab_path'])\n",
    "    print(f\"vocab save FINISHED:- {conf['vocab']['vocab_path']}\")\n",
    "    return"
   ]
  },
  {
   "cell_type": "code",
   "execution_count": 57,
   "id": "a411be16-ec5d-464d-b7d9-57c1520d4252",
   "metadata": {
    "tags": []
   },
   "outputs": [],
   "source": [
    "def save_vocab_wt(vocab_wt_obj, conf):\n",
    "    print(f\"vocab weight save STARTED:- {conf['vocab']['vocab_wt_path']}\")\n",
    "    torch.save(vocab_wt_obj, conf['vocab']['vocab_wt_path'])\n",
    "    print(f\"vocab weight save FINISHED:- {conf['vocab']['vocab_wt_path']}\")\n",
    "    return"
   ]
  },
  {
   "cell_type": "code",
   "execution_count": 58,
   "id": "55e9758c-968e-42c3-9820-9b56442d9821",
   "metadata": {},
   "outputs": [
    {
     "name": "stdout",
     "output_type": "stream",
     "text": [
      "data loaded STARTED:- data/train/train_preprocess.csv\n",
      "data loaded FINISHED:- data/train/train_preprocess.csv\n",
      "data_df shape:- (31819, 4)\n",
      "unk:-  0\n",
      "pad:-  1\n",
      "The first word in vocab is  <UNK>\n",
      "The second word in vocab is  <PAD>\n",
      "The third word in vocab is  pepper\n",
      "The last word in vocab is  zero\n",
      "vocab_size:- 2989\n",
      "vocab save STARTED:- data/vocab/vocab_obj.pth\n",
      "vocab save FINISHED:- data/vocab/vocab_obj.pth\n",
      "vocab weight save STARTED:- data/vocab/vocab_wt_obj.pth\n",
      "vocab weight save FINISHED:- data/vocab/vocab_wt_obj.pth\n"
     ]
    }
   ],
   "source": [
    "if __name__ == \"__main__\":\n",
    "    try:\n",
    "        # reading configuration\n",
    "        conf = get_conf()\n",
    "        \n",
    "        # reading train data\n",
    "        train_df = read_train_data(conf)\n",
    "        \n",
    "        # generating vocabulary\n",
    "        vocab = get_vocab(train_df)\n",
    "        \n",
    "        # saving vocabulary\n",
    "        save_vocab(vocab, conf)\n",
    "        \n",
    "        # generating vocabulary weights\n",
    "        vocab_wt = gen_vocab_wt(vocab, conf)\n",
    "        \n",
    "        # saving vocabulary weights\n",
    "        save_vocab_wt(vocab_wt, conf)\n",
    "         \n",
    "    except Exception as e:\n",
    "        print(traceback.format_exc())"
   ]
  },
  {
   "cell_type": "code",
   "execution_count": null,
   "id": "c55444d2-b084-4acc-9c60-917409007dad",
   "metadata": {},
   "outputs": [],
   "source": []
  },
  {
   "cell_type": "code",
   "execution_count": null,
   "id": "d0938b03-d09b-429d-b54d-f64962c04e54",
   "metadata": {},
   "outputs": [],
   "source": [
    "# https://github.com/pytorch/text/blob/master/examples/legacy_tutorial/migration_tutorial.ipynb\n",
    "# https://hussainwali.medium.com/using-fasttext-embeddings-in-pytorch-boosting-neural-network-performance-fe017c39c7c3#\n",
    "# https://fasttext.cc/docs/en/english-vectors.html"
   ]
  }
 ],
 "metadata": {
  "kernelspec": {
   "display_name": "Python 3 (ipykernel)",
   "language": "python",
   "name": "python3"
  },
  "language_info": {
   "codemirror_mode": {
    "name": "ipython",
    "version": 3
   },
   "file_extension": ".py",
   "mimetype": "text/x-python",
   "name": "python",
   "nbconvert_exporter": "python",
   "pygments_lexer": "ipython3",
   "version": "3.7.4"
  }
 },
 "nbformat": 4,
 "nbformat_minor": 5
}
