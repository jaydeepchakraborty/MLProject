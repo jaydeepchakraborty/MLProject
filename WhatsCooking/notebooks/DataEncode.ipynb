{
 "cells": [
  {
   "cell_type": "code",
   "execution_count": 1,
   "id": "14dd542b-9997-466a-bf45-be67ecd8453e",
   "metadata": {},
   "outputs": [],
   "source": [
    "# setting os environement\n",
    "import os\n",
    "os.environ[\"ENV_NM\"] = \"dev\"\n",
    "os.chdir('../')"
   ]
  },
  {
   "cell_type": "code",
   "execution_count": 2,
   "id": "c01adfc7-97b4-4617-b144-531facd1ae50",
   "metadata": {},
   "outputs": [],
   "source": [
    "# import statements\n",
    "from util.util_lib import *\n",
    "import util.util_cnst as cnst"
   ]
  },
  {
   "cell_type": "code",
   "execution_count": 3,
   "id": "8b702eea-aba1-45a2-b54f-16d116e4776e",
   "metadata": {},
   "outputs": [],
   "source": [
    "# read config file\n",
    "def get_conf(): \n",
    "    conf = EnvYAML(cnst.CONFIG_FL)  \n",
    "    conf = conf[conf['env_nm']]\n",
    "    return conf"
   ]
  },
  {
   "cell_type": "code",
   "execution_count": 4,
   "id": "6e04108d-3ee4-4bd0-8f26-72a2638298a6",
   "metadata": {},
   "outputs": [],
   "source": [
    "def read_train_data(conf):\n",
    "    data_fl_path = conf['data']['data_fl_path'] + conf['data']['train_preprocess_fl_nm']\n",
    "    print(f\"data loaded STARTED:- {data_fl_path}\")\n",
    "    data_df = pd.read_csv(data_fl_path)\n",
    "    print(f\"data loaded FINISHED:- {data_fl_path}\")\n",
    "    print(f\"data_df shape:- {data_df.shape}\")\n",
    "    \n",
    "    print(f\"data INFO:-\")\n",
    "    print(data_df.info())\n",
    "    \n",
    "    print(f\"data DESCRIBE:-\")\n",
    "    print(data_df.describe())\n",
    "    \n",
    "    return data_df"
   ]
  },
  {
   "cell_type": "code",
   "execution_count": 5,
   "id": "33a2d239-b058-42f5-b9dd-2c5aa1c0cf25",
   "metadata": {},
   "outputs": [],
   "source": [
    "def encode_lebel(df, conf):\n",
    "    # Create a LabelEncoder\n",
    "    le = LabelEncoder()\n",
    "    y = df['cuisine'].unique().tolist()\n",
    "    le.fit(y)\n",
    "    \n",
    "    # Save the encoder to a file\n",
    "    print(f\"lebel encode save STARTED:- {conf['lbl_enc']}\")\n",
    "    with open(conf['lbl_enc'], 'wb') as file:\n",
    "        pickle.dump(le, file)\n",
    "    print(f\"lebel encode save FINISHED:- {conf['lbl_enc']}\")\n",
    "    \n",
    "    # checking the label encoder\n",
    "    cls_lst = list(le.classes_)\n",
    "    print(f\"total number of classes:- {len(cls_lst)}\")\n",
    "    cls_lst = cls_lst[0:3]\n",
    "    \n",
    "    print(f\"the class indexes are:- \\n {cls_lst} :- {le.transform(cls_lst)}\")\n",
    "    print(f\"the class inverse indexes are:- \\n {le.inverse_transform([0, 1, 2])}\")\n",
    "    \n",
    "    return"
   ]
  },
  {
   "cell_type": "code",
   "execution_count": 6,
   "id": "43e0f75f-1663-497e-af94-c39cab95c872",
   "metadata": {},
   "outputs": [
    {
     "name": "stdout",
     "output_type": "stream",
     "text": [
      "data loaded STARTED:- data/train/train_preprocess.csv\n",
      "data loaded FINISHED:- data/train/train_preprocess.csv\n",
      "data_df shape:- (31819, 4)\n",
      "data INFO:-\n",
      "<class 'pandas.core.frame.DataFrame'>\n",
      "RangeIndex: 31819 entries, 0 to 31818\n",
      "Data columns (total 4 columns):\n",
      " #   Column                 Non-Null Count  Dtype \n",
      "---  ------                 --------------  ----- \n",
      " 0   id                     31819 non-null  int64 \n",
      " 1   cuisine                31819 non-null  object\n",
      " 2   ingredients            31819 non-null  object\n",
      " 3   ingredients_processed  31819 non-null  object\n",
      "dtypes: int64(1), object(3)\n",
      "memory usage: 994.5+ KB\n",
      "None\n",
      "data DESCRIBE:-\n",
      "                 id\n",
      "count  31819.000000\n",
      "mean   24878.191615\n",
      "std    14372.049664\n",
      "min        0.000000\n",
      "25%    12364.500000\n",
      "50%    24943.000000\n",
      "75%    37333.500000\n",
      "max    49717.000000\n",
      "lebel encode save STARTED:- data/encoder/label_encoder.pkl\n",
      "lebel encode save FINISHED:- data/encoder/label_encoder.pkl\n",
      "total number of classes:- 20\n",
      "the class indexes are:- \n",
      " ['brazilian', 'british', 'cajun_creole'] :- [0 1 2]\n",
      "the class inverse indexes are:- \n",
      " ['brazilian' 'british' 'cajun_creole']\n"
     ]
    }
   ],
   "source": [
    "if __name__ == \"__main__\":\n",
    "    try:\n",
    "        # reading configuration\n",
    "        conf = get_conf()\n",
    "        \n",
    "        # reading train data\n",
    "        train_df = read_train_data(conf)\n",
    "        \n",
    "        # encode lebel and save the encoder\n",
    "        encode_lebel(train_df, conf)\n",
    "        \n",
    "    except Exception as e:\n",
    "        print(traceback.format_exc())"
   ]
  },
  {
   "cell_type": "code",
   "execution_count": null,
   "id": "7a6f2619-1f82-41f5-912e-3a56920071b1",
   "metadata": {},
   "outputs": [],
   "source": []
  }
 ],
 "metadata": {
  "kernelspec": {
   "display_name": "Python 3 (ipykernel)",
   "language": "python",
   "name": "python3"
  },
  "language_info": {
   "codemirror_mode": {
    "name": "ipython",
    "version": 3
   },
   "file_extension": ".py",
   "mimetype": "text/x-python",
   "name": "python",
   "nbconvert_exporter": "python",
   "pygments_lexer": "ipython3",
   "version": "3.7.4"
  }
 },
 "nbformat": 4,
 "nbformat_minor": 5
}
