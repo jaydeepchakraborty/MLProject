{
 "cells": [
  {
   "cell_type": "code",
   "execution_count": 1,
   "id": "24d3f720-762d-49e7-9be9-06a2a3cecf14",
   "metadata": {},
   "outputs": [],
   "source": [
    "# setting os environement\n",
    "import os\n",
    "os.environ[\"ENV_NM\"] = \"dev\"\n",
    "os.chdir('../')"
   ]
  },
  {
   "cell_type": "code",
   "execution_count": 9,
   "id": "d4993bad-f15c-4ea1-855c-fde1a9377fc3",
   "metadata": {},
   "outputs": [],
   "source": [
    "# import statements\n",
    "from util.util_lib import *\n",
    "import util.util_cnst as cnst"
   ]
  },
  {
   "cell_type": "code",
   "execution_count": 10,
   "id": "10641dcd-8538-4a18-853a-41b98771aac0",
   "metadata": {},
   "outputs": [],
   "source": [
    "# read config file\n",
    "def get_conf(): \n",
    "    conf = EnvYAML(cnst.CONFIG_FL)  \n",
    "    conf = conf[conf['env_nm']]\n",
    "    return conf"
   ]
  },
  {
   "cell_type": "code",
   "execution_count": 11,
   "id": "ab1d3d67-817e-4448-a3df-00c7452f5a6b",
   "metadata": {},
   "outputs": [],
   "source": [
    "def read_data(data_fl_path, conf):\n",
    "    print(f\"data loaded STARTED:- {data_fl_path}\")\n",
    "    data_df = pd.read_csv(data_fl_path)\n",
    "    print(f\"data loaded FINISHED:- {data_fl_path}\")\n",
    "    print(f\"data_df shape:- {data_df.shape}\")\n",
    "    return data_df"
   ]
  },
  {
   "cell_type": "code",
   "execution_count": 12,
   "id": "9cca54cd-5d2c-407a-9437-d005c8b23674",
   "metadata": {},
   "outputs": [],
   "source": [
    "def data_preprocess_util(row):\n",
    "    STOPWORDS = set(stopwords.words('english'))\n",
    "    PUNCT_TO_REMOVE = string.punctuation\n",
    "    if pd.notnull(row):\n",
    "        # change to lower case\n",
    "        row_list = ast.literal_eval(row)\n",
    "\n",
    "        row_list = [word.lower() for word in row_list]\n",
    "        row_list = [word.translate(str.maketrans('', '', PUNCT_TO_REMOVE)) for word in row_list]\n",
    "        row_list = [word for word in row_list if word not in STOPWORDS]\n",
    "\n",
    "        return row_list\n",
    "\n",
    "    return None"
   ]
  },
  {
   "cell_type": "code",
   "execution_count": 13,
   "id": "bcc8342e-bad7-46c9-a76b-699b2c5a81ac",
   "metadata": {},
   "outputs": [],
   "source": [
    "def save_file(data_df, fl_path_nm, conf):\n",
    "    print(f\"data save STARTED:- {fl_path_nm}\")\n",
    "    data_df.to_csv(fl_path_nm, index=False)\n",
    "    print(f\"data save FINISHED:- {fl_path_nm}\")\n",
    "    return"
   ]
  },
  {
   "cell_type": "code",
   "execution_count": 14,
   "id": "8c000930-0a55-4090-ba96-77cc95dc33c6",
   "metadata": {},
   "outputs": [],
   "source": [
    "def data_preprocess(conf):\n",
    "\n",
    "    train_fl_path = conf['data']['data_fl_path'] + conf['data']['train_fl_nm']\n",
    "    train_df = read_data(train_fl_path, conf)\n",
    "    train_df['ingredients_processed'] =  train_df['ingredients'].apply(lambda x: data_preprocess_util(x))\n",
    "    train_fl_path = conf['data']['data_fl_path'] + conf['data']['train_preprocess_fl_nm']\n",
    "    save_file(train_df, train_fl_path, conf)\n",
    "\n",
    "    valid_fl_path = conf['data']['data_fl_path'] + conf['data']['valid_fl_nm']\n",
    "    valid_df = read_data(valid_fl_path, conf)\n",
    "    valid_df['ingredients_processed'] = valid_df['ingredients'].apply(lambda x: data_preprocess_util(x))\n",
    "    valid_fl_path = conf['data']['data_fl_path'] + conf['data']['valid_preprocess_fl_nm']\n",
    "    save_file(valid_df, valid_fl_path, conf)\n",
    "    \n",
    "    test_fl_path = conf['data']['data_fl_path'] + conf['data']['test_fl_nm']\n",
    "    test_df = read_data(test_fl_path, conf)\n",
    "    test_df['ingredients_processed'] = test_df['ingredients'].apply(lambda x: data_preprocess_util(x))\n",
    "    test_fl_path = conf['data']['data_fl_path'] + conf['data']['test_preprocess_fl_nm']\n",
    "    save_file(test_df, test_fl_path, conf)\n",
    "\n",
    "    return"
   ]
  },
  {
   "cell_type": "code",
   "execution_count": 15,
   "id": "1b73e9ea-0a35-422f-8d6d-9760e879b0b4",
   "metadata": {},
   "outputs": [
    {
     "name": "stdout",
     "output_type": "stream",
     "text": [
      "data loaded STARTED:- data/train/train.csv\n",
      "data loaded FINISHED:- data/train/train.csv\n",
      "data_df shape:- (31819, 3)\n",
      "data save STARTED:- data/train/train_preprocess.csv\n",
      "data save FINISHED:- data/train/train_preprocess.csv\n",
      "data loaded STARTED:- data/valid/valid.csv\n",
      "data loaded FINISHED:- data/valid/valid.csv\n",
      "data_df shape:- (7955, 3)\n",
      "data save STARTED:- data/valid/valid_preprocess.csv\n",
      "data save FINISHED:- data/valid/valid_preprocess.csv\n",
      "data loaded STARTED:- data/test/test.csv\n",
      "data loaded FINISHED:- data/test/test.csv\n",
      "data_df shape:- (9944, 2)\n",
      "data save STARTED:- data/test/test_preprocess.csv\n",
      "data save FINISHED:- data/test/test_preprocess.csv\n",
      "CPU times: user 11.8 s, sys: 1.58 s, total: 13.4 s\n",
      "Wall time: 13.7 s\n"
     ]
    }
   ],
   "source": [
    "%%time\n",
    "if __name__ == \"__main__\":\n",
    "    try:\n",
    "        # reading configuration\n",
    "        conf = get_conf()\n",
    "    \n",
    "        # preprocessing data\n",
    "        data_preprocess(conf)\n",
    "        \n",
    "    except Exception as e:\n",
    "        print(traceback.format_exc())"
   ]
  },
  {
   "cell_type": "code",
   "execution_count": null,
   "id": "9e1db002-2c7e-4367-ba6b-fb2ec1bb5a00",
   "metadata": {},
   "outputs": [],
   "source": []
  }
 ],
 "metadata": {
  "kernelspec": {
   "display_name": "Python 3 (ipykernel)",
   "language": "python",
   "name": "python3"
  },
  "language_info": {
   "codemirror_mode": {
    "name": "ipython",
    "version": 3
   },
   "file_extension": ".py",
   "mimetype": "text/x-python",
   "name": "python",
   "nbconvert_exporter": "python",
   "pygments_lexer": "ipython3",
   "version": "3.7.4"
  }
 },
 "nbformat": 4,
 "nbformat_minor": 5
}
