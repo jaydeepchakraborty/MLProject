{
 "cells": [
  {
   "cell_type": "code",
   "execution_count": 2,
   "id": "93165b91",
   "metadata": {},
   "outputs": [],
   "source": [
    "# setting os environement\n",
    "import os\n",
    "os.environ[\"ENV_NM\"] = \"dev\"\n",
    "os.chdir('../')"
   ]
  },
  {
   "cell_type": "code",
   "execution_count": 3,
   "id": "3ec02221",
   "metadata": {},
   "outputs": [],
   "source": [
    "# import statements\n",
    "from util.util_lib import *\n",
    "import util.util_cnst as cnst"
   ]
  },
  {
   "cell_type": "code",
   "execution_count": 11,
   "id": "05889390",
   "metadata": {},
   "outputs": [],
   "source": [
    "# read config file\n",
    "def get_conf(): \n",
    "    conf = EnvYAML(cnst.CONFIG_FL)  \n",
    "    conf = conf[conf['env_nm']]\n",
    "    return conf"
   ]
  },
  {
   "cell_type": "code",
   "execution_count": 12,
   "id": "e8b9f1a9",
   "metadata": {},
   "outputs": [],
   "source": [
    "def read_data(conf):\n",
    "    data_fl_path = conf['data']['data_fl_path'] + conf['data']['data_fl_nm'][0]\n",
    "    print(f\"data loaded STARTED:- {data_fl_path}\")\n",
    "    data_df = pd.read_json(data_fl_path)\n",
    "    print(f\"data loaded FINISHED:- {data_fl_path}\")\n",
    "    print(f\"data_df shape:- {data_df.shape}\")\n",
    "    return data_df"
   ]
  },
  {
   "cell_type": "code",
   "execution_count": 13,
   "id": "88580797",
   "metadata": {},
   "outputs": [],
   "source": [
    "def read_test_data(conf):\n",
    "    data_fl_path = conf['data']['data_fl_path'] + conf['data']['data_fl_nm'][1]\n",
    "    print(f\"data loaded STARTED:- {data_fl_path}\")\n",
    "    data_df = pd.read_json(data_fl_path)\n",
    "    print(f\"data loaded FINISHED:- {data_fl_path}\")\n",
    "    print(f\"data_df shape:- {data_df.shape}\")\n",
    "    return data_df"
   ]
  },
  {
   "cell_type": "code",
   "execution_count": 14,
   "id": "e2b0dd64",
   "metadata": {},
   "outputs": [],
   "source": [
    "def split_data(data_df, conf):\n",
    "    data_df_train, data_df_valid = train_test_split(data_df, test_size=0.2)\n",
    "    print(f\"data_df_train shape:- {data_df_train.shape}\")\n",
    "    print(f\"data_df_valid shape:- {data_df_valid.shape}\")\n",
    "    return data_df_train, data_df_valid"
   ]
  },
  {
   "cell_type": "code",
   "execution_count": 15,
   "id": "0edc2f81",
   "metadata": {},
   "outputs": [],
   "source": [
    "def save_file(data_df, fl_path_nm, conf):\n",
    "    print(f\"data save STARTED:- {fl_path_nm}\")\n",
    "    data_df.to_csv(fl_path_nm, index=False)\n",
    "    print(f\"data save FINISHED:- {fl_path_nm}\")\n",
    "    return"
   ]
  },
  {
   "cell_type": "code",
   "execution_count": 16,
   "id": "a4514bf9",
   "metadata": {},
   "outputs": [
    {
     "name": "stdout",
     "output_type": "stream",
     "text": [
      "data loaded STARTED:- data/raw_data/train.json\n",
      "data loaded FINISHED:- data/raw_data/train.json\n",
      "data_df shape:- (39774, 3)\n",
      "data_df_train shape:- (31819, 3)\n",
      "data_df_valid shape:- (7955, 3)\n",
      "data save STARTED:- data/train/train.csv\n",
      "data save FINISHED:- data/train/train.csv\n",
      "data save STARTED:- data/valid/valid.csv\n",
      "data save FINISHED:- data/valid/valid.csv\n",
      "data loaded STARTED:- data/raw_data/test.json\n",
      "data loaded FINISHED:- data/raw_data/test.json\n",
      "data_df shape:- (9944, 2)\n",
      "data save STARTED:- data/test/test.csv\n",
      "data save FINISHED:- data/test/test.csv\n",
      "CPU times: user 859 ms, sys: 67.8 ms, total: 927 ms\n",
      "Wall time: 981 ms\n"
     ]
    }
   ],
   "source": [
    "%%time\n",
    "if __name__ == \"__main__\":\n",
    "    try:\n",
    "        # reading configuration\n",
    "        conf = get_conf()\n",
    "        \n",
    "        # reading raw data\n",
    "        data_df = read_data(conf)\n",
    "        \n",
    "        # spliting the data into train and validation data\n",
    "        data_df_train, data_df_valid = split_data(data_df, conf)\n",
    "        \n",
    "        # saving train data\n",
    "        train_fl_path = conf['data']['data_fl_path'] + conf['data']['train_fl_nm']\n",
    "        save_file(data_df_train, train_fl_path, conf)\n",
    "        \n",
    "        # saving validation data\n",
    "        valid_fl_path = conf['data']['data_fl_path'] + conf['data']['valid_fl_nm']\n",
    "        save_file(data_df_valid, valid_fl_path, conf)\n",
    "        \n",
    "        # reading raw test data\n",
    "        data_df_test = read_test_data(conf)\n",
    "        \n",
    "        # saving test data\n",
    "        test_fl_path = conf['data']['data_fl_path'] + conf['data']['test_fl_nm']\n",
    "        save_file(data_df_test, test_fl_path, conf)\n",
    "        \n",
    "    except Exception as e:\n",
    "        print(traceback.format_exc())"
   ]
  },
  {
   "cell_type": "code",
   "execution_count": null,
   "id": "5ebde77e",
   "metadata": {},
   "outputs": [],
   "source": []
  }
 ],
 "metadata": {
  "kernelspec": {
   "display_name": "Python 3 (ipykernel)",
   "language": "python",
   "name": "python3"
  },
  "language_info": {
   "codemirror_mode": {
    "name": "ipython",
    "version": 3
   },
   "file_extension": ".py",
   "mimetype": "text/x-python",
   "name": "python",
   "nbconvert_exporter": "python",
   "pygments_lexer": "ipython3",
   "version": "3.7.4"
  }
 },
 "nbformat": 4,
 "nbformat_minor": 5
}
