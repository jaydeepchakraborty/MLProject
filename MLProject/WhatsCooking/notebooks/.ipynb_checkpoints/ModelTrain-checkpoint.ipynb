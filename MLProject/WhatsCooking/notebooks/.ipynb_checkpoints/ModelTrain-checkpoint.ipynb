{
 "cells": [
  {
   "cell_type": "code",
   "execution_count": 1,
   "id": "f8da09f3-fa36-4d17-82cd-8e87bd040c7f",
   "metadata": {},
   "outputs": [],
   "source": [
    "# setting os environement\n",
    "import os\n",
    "os.environ[\"ENV_NM\"] = \"dev\"\n",
    "os.chdir('../')"
   ]
  },
  {
   "cell_type": "code",
   "execution_count": 2,
   "id": "a6e929ce-a70d-49d5-bfde-7f446ff7836c",
   "metadata": {},
   "outputs": [],
   "source": [
    "# import statements\n",
    "from util.util_lib import *\n",
    "import util.util_cnst as cnst\n",
    "from CookingDataset import CookingDataset \n",
    "from CookingBatchSampler import CookingBatchSampler\n",
    "from CookingCollator import CookingCollator\n",
    "from CookingGAN import CookingGAN"
   ]
  },
  {
   "cell_type": "code",
   "execution_count": 3,
   "id": "3bc0d319-b030-410d-ac32-21b5bf03c699",
   "metadata": {},
   "outputs": [],
   "source": [
    "# read config file\n",
    "def get_conf(): \n",
    "    conf = EnvYAML(cnst.CONFIG_FL)  \n",
    "    conf = conf[conf['env_nm']]\n",
    "    return conf"
   ]
  },
  {
   "cell_type": "code",
   "execution_count": 4,
   "id": "89939711-e2a0-4aff-a2f2-a378ccefe5ec",
   "metadata": {},
   "outputs": [],
   "source": [
    "def get_dataloader(path, conf):\n",
    "    dl = torch.load(path)\n",
    "    return dl"
   ]
  },
  {
   "cell_type": "code",
   "execution_count": 5,
   "id": "a5e64b4f-0b8e-4b88-bd16-f541e73c9336",
   "metadata": {},
   "outputs": [],
   "source": [
    "def train_model(train_dl, valid_dl, conf):\n",
    "    \n",
    "    # GAN model train and validation\n",
    "    cooking_model = CookingGAN(conf)\n",
    "    cooking_model.train(train_dl, valid_dl)\n",
    "    \n",
    "    return"
   ]
  },
  {
   "cell_type": "code",
   "execution_count": 6,
   "id": "bf7870ad-e46b-4af4-8734-ece8bfbe4147",
   "metadata": {},
   "outputs": [
    {
     "name": "stdout",
     "output_type": "stream",
     "text": [
      "epoch:-  0\n",
      "training===>  loss:-  0.1254830617458682   accuracy:-  0.011958263930356077\n",
      "validation===>  loss:-  0.12510233092502857   accuracy:-  0.006788183532369579\n",
      "epoch:-  2\n",
      "training===>  loss:-  0.12502138611432567   accuracy:-  0.0034138407869511926\n",
      "validation===>  loss:-  0.1250835600100097   accuracy:-  0.002278441231929604\n",
      "epoch:-  4\n",
      "training===>  loss:-  0.1250196454466474   accuracy:-  0.0021960149596153243\n",
      "validation===>  loss:-  0.125080790623114   accuracy:-  0.0019013199245757385\n",
      "epoch:-  6\n",
      "training===>  loss:-  0.12501870970299064   accuracy:-  0.0025063641220654325\n",
      "validation===>  loss:-  0.1250815592345616   accuracy:-  0.002325581395348837\n",
      "model saved:- data/model/whats_cooking_model.pt\n",
      "Model Training is FINISHED\n",
      "CPU times: user 13min 19s, sys: 14.9 s, total: 13min 34s\n",
      "Wall time: 14min 20s\n"
     ]
    }
   ],
   "source": [
    "%%time\n",
    "if __name__ == \"__main__\":\n",
    "    try:\n",
    "        # reading configuration\n",
    "        conf = get_conf()\n",
    "        \n",
    "        # load data loaders\n",
    "        dataloader_path = conf['data']['data_fl_path'] + conf['data']['train_dataloader']\n",
    "        train_dl = get_dataloader(dataloader_path, conf)\n",
    "        dataloader_path = conf['data']['data_fl_path'] + conf['data']['valid_dataloader']\n",
    "        valid_dl = get_dataloader(dataloader_path, conf)\n",
    "        \n",
    "        # train the model\n",
    "        train_model(train_dl, valid_dl, conf)\n",
    "        \n",
    "    except Exception as e:\n",
    "        print(traceback.format_exc())\n",
    "    finally:\n",
    "        print(\"Model Training is FINISHED\")"
   ]
  },
  {
   "cell_type": "code",
   "execution_count": null,
   "id": "9ca9aa3d-9917-4ddf-8ada-f58906bdc5ac",
   "metadata": {},
   "outputs": [],
   "source": []
  },
  {
   "cell_type": "code",
   "execution_count": null,
   "id": "f4259345-3d9d-489e-ad29-67c2cb8b01a8",
   "metadata": {},
   "outputs": [],
   "source": [
    "# https://hussainwali.medium.com/using-fasttext-embeddings-in-pytorch-boosting-neural-network-performance-fe017c39c7c3\n",
    "# https://hussainwali.medium.com/transforming-your-text-data-with-pytorch-12ec1b1c9ae6\n",
    "# https://github.com/microsoft/AI-For-Beginners/blob/main/lessons/5-NLP/14-Embeddings/EmbeddingsPyTorch.ipynb"
   ]
  }
 ],
 "metadata": {
  "kernelspec": {
   "display_name": "Python 3 (ipykernel)",
   "language": "python",
   "name": "python3"
  },
  "language_info": {
   "codemirror_mode": {
    "name": "ipython",
    "version": 3
   },
   "file_extension": ".py",
   "mimetype": "text/x-python",
   "name": "python",
   "nbconvert_exporter": "python",
   "pygments_lexer": "ipython3",
   "version": "3.7.4"
  }
 },
 "nbformat": 4,
 "nbformat_minor": 5
}
