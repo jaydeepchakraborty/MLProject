{
 "cells": [
  {
   "cell_type": "code",
   "execution_count": 1,
   "id": "049f6608-681c-4842-a35c-f640537d2d2c",
   "metadata": {},
   "outputs": [],
   "source": [
    "# setting os environement\n",
    "import os\n",
    "os.environ[\"ENV_NM\"] = \"dev\"\n",
    "os.chdir('../')"
   ]
  },
  {
   "cell_type": "code",
   "execution_count": 2,
   "id": "e0dc2530-e93a-4d78-9474-cf3242135051",
   "metadata": {},
   "outputs": [],
   "source": [
    "# import statements\n",
    "from util.util_lib import *\n",
    "import util.util_cnst as cnst\n",
    "from CookingDataset import CookingDataset \n",
    "from CookingBatchSampler import CookingBatchSampler\n",
    "from CookingCollator import CookingCollator\n",
    "from CookingGAN import CookingGAN"
   ]
  },
  {
   "cell_type": "code",
   "execution_count": 3,
   "id": "07df8170-90c5-478b-8108-5bfc44ac0b89",
   "metadata": {},
   "outputs": [],
   "source": [
    "# read config file\n",
    "def get_conf(): \n",
    "    conf = EnvYAML(cnst.CONFIG_FL)  \n",
    "    conf = conf[conf['env_nm']]\n",
    "    return conf"
   ]
  },
  {
   "cell_type": "code",
   "execution_count": 4,
   "id": "d8657850-c0bb-4454-a405-db788d296d70",
   "metadata": {},
   "outputs": [],
   "source": [
    "def get_dataloader(path, conf):\n",
    "    dl = torch.load(path)\n",
    "    return dl"
   ]
  },
  {
   "cell_type": "code",
   "execution_count": 5,
   "id": "75672d7a-11cb-4281-a743-ad9e49381d26",
   "metadata": {},
   "outputs": [],
   "source": [
    "def test_model(test_dl, conf):\n",
    "    \n",
    "    # GAN model test\n",
    "    cooking_model = CookingGAN(conf)\n",
    "    preds = cooking_model.test(test_dl)\n",
    "    \n",
    "    return preds"
   ]
  },
  {
   "cell_type": "code",
   "execution_count": null,
   "id": "78189da3-344d-418d-b523-17ccbb4d650b",
   "metadata": {},
   "outputs": [],
   "source": [
    "%%time\n",
    "if __name__ == \"__main__\":\n",
    "    try:\n",
    "        # reading configuration\n",
    "        conf = get_conf()\n",
    "        \n",
    "        # load data loaders\n",
    "        dataloader_path = conf['data']['data_fl_path'] + conf['data']['test_dataloader']\n",
    "        test_dl = get_dataloader(dataloader_path, conf)\n",
    "        \n",
    "        # test the model\n",
    "        preds = test_model(test_dl, conf)\n",
    "        \n",
    "    except Exception as e:\n",
    "        print(traceback.format_exc())\n",
    "    finally:\n",
    "        print(\"Model Testing is FINISHED\")"
   ]
  },
  {
   "cell_type": "code",
   "execution_count": null,
   "id": "97ce4ab6-d484-478e-85e8-5561ace582f1",
   "metadata": {},
   "outputs": [],
   "source": []
  }
 ],
 "metadata": {
  "kernelspec": {
   "display_name": "Python 3 (ipykernel)",
   "language": "python",
   "name": "python3"
  },
  "language_info": {
   "codemirror_mode": {
    "name": "ipython",
    "version": 3
   },
   "file_extension": ".py",
   "mimetype": "text/x-python",
   "name": "python",
   "nbconvert_exporter": "python",
   "pygments_lexer": "ipython3",
   "version": "3.7.4"
  }
 },
 "nbformat": 4,
 "nbformat_minor": 5
}
